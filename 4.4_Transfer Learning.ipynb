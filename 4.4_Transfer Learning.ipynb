{
 "cells": [
  {
   "cell_type": "markdown",
   "metadata": {},
   "source": [
    "# Transfer Learning"
   ]
  },
  {
   "cell_type": "code",
   "execution_count": null,
   "metadata": {},
   "outputs": [],
   "source": [
    "from keras.applications import Xception\n",
    "from keras.applications.inception_v3 import InceptionV3\n",
    "from keras.layers import Dense, GlobalAveragePooling2D\n",
    "from keras.models import Model"
   ]
  },
  {
   "cell_type": "markdown",
   "metadata": {},
   "source": [
    "## ImageNet Challenge\n",
    "- Large Scale Visual Recognition Challenge (ILSVRC)\n",
    "- Über 1'000 Kategorien"
   ]
  },
  {
   "cell_type": "markdown",
   "metadata": {},
   "source": [
    "## Inception V3 Network\n",
    "![title](images/inceptionv3.png)\n",
    "- Total params: 23,909,160"
   ]
  },
  {
   "cell_type": "markdown",
   "metadata": {},
   "source": [
    "## Transfer Learning mit Keras\n",
    "- Keras bietet die Möglichkeit, das Inception Model mit den trainierten Gewichten zu laden\n",
    "- Pro Layer kann angegeben werden, ob er neu traniert werden soll\n",
    "- Die ersten 172-Layers freezen --> Nur die letzten neu trainieren"
   ]
  },
  {
   "cell_type": "code",
   "execution_count": null,
   "metadata": {},
   "outputs": [],
   "source": [
    "num_classes = 10\n",
    "layers_to_freeze = 0\n",
    "num_fc_neurons = 1024\n",
    "\n",
    "base_model = InceptionV3(weights=\"imagenet\", include_top=False)  # Excludes final FC layer\n",
    "x = base_model.output\n",
    "x = GlobalAveragePooling2D()(x)\n",
    "x = Dense(num_fc_neurons, activation=\"relu\")(x)  # new FC layer, random init\n",
    "predictions = Dense(num_classes, activation=\"softmax\")(x)  # New Softmax layer\n",
    "model = Model(inputs=base_model.input, outputs=predictions)\n",
    "\n",
    "\n",
    "#  Transfer Learning with fine tuning\n",
    "# Retrain the end few layers (called the top layers) of the inception model\n",
    "# Freeze layers\n",
    "print(\"Freeze {} layers\".format(layers_to_freeze))\n",
    "for layer in base_model.layers[:layers_to_freeze]:\n",
    "    layer.trainable = False\n",
    "for layer in base_model.layers[layers_to_freeze:]:\n",
    "    layer.trainable = True\n",
    "    \n",
    "print(model.summary())"
   ]
  }
 ],
 "metadata": {
  "kernelspec": {
   "display_name": "Python 3",
   "language": "python",
   "name": "python3"
  },
  "language_info": {
   "codemirror_mode": {
    "name": "ipython",
    "version": 3
   },
   "file_extension": ".py",
   "mimetype": "text/x-python",
   "name": "python",
   "nbconvert_exporter": "python",
   "pygments_lexer": "ipython3",
   "version": "3.5.2"
  }
 },
 "nbformat": 4,
 "nbformat_minor": 2
}
