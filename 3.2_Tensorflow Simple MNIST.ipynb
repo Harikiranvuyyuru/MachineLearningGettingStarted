{
 "cells": [
  {
   "cell_type": "markdown",
   "metadata": {},
   "source": [
    "# Simple MNIST Handwritten digits detection"
   ]
  },
  {
   "cell_type": "code",
   "execution_count": 1,
   "metadata": {},
   "outputs": [
    {
     "name": "stderr",
     "output_type": "stream",
     "text": [
      "c:\\python36\\lib\\site-packages\\h5py\\__init__.py:36: FutureWarning: Conversion of the second argument of issubdtype from `float` to `np.floating` is deprecated. In future, it will be treated as `np.float64 == np.dtype(float).type`.\n",
      "  from ._conv import register_converters as _register_converters\n"
     ]
    }
   ],
   "source": [
    "import tensorflow as tf\n",
    "from tensorflow.examples.tutorials.mnist import input_data\n",
    "import matplotlib as mpl\n",
    "from matplotlib import pyplot as plt\n",
    "import numpy as np\n",
    "from tensorflow.python.framework.graph_util import convert_variables_to_constants\n",
    "import os\n",
    "\n",
    "%matplotlib inline\n",
    "mpl.rcParams['figure.dpi'] = 100"
   ]
  },
  {
   "cell_type": "markdown",
   "metadata": {},
   "source": [
    "## Understand the MNIST dataset"
   ]
  },
  {
   "cell_type": "code",
   "execution_count": 2,
   "metadata": {},
   "outputs": [
    {
     "name": "stdout",
     "output_type": "stream",
     "text": [
      "WARNING:tensorflow:From <ipython-input-2-97e2561fb3c1>:1: read_data_sets (from tensorflow.contrib.learn.python.learn.datasets.mnist) is deprecated and will be removed in a future version.\n",
      "Instructions for updating:\n",
      "Please use alternatives such as official/mnist/dataset.py from tensorflow/models.\n",
      "WARNING:tensorflow:From c:\\python36\\lib\\site-packages\\tensorflow\\contrib\\learn\\python\\learn\\datasets\\mnist.py:260: maybe_download (from tensorflow.contrib.learn.python.learn.datasets.base) is deprecated and will be removed in a future version.\n",
      "Instructions for updating:\n",
      "Please write your own downloading logic.\n",
      "WARNING:tensorflow:From c:\\python36\\lib\\site-packages\\tensorflow\\contrib\\learn\\python\\learn\\datasets\\mnist.py:262: extract_images (from tensorflow.contrib.learn.python.learn.datasets.mnist) is deprecated and will be removed in a future version.\n",
      "Instructions for updating:\n",
      "Please use tf.data to implement this functionality.\n",
      "Extracting MNIST_data/train-images-idx3-ubyte.gz\n",
      "WARNING:tensorflow:From c:\\python36\\lib\\site-packages\\tensorflow\\contrib\\learn\\python\\learn\\datasets\\mnist.py:267: extract_labels (from tensorflow.contrib.learn.python.learn.datasets.mnist) is deprecated and will be removed in a future version.\n",
      "Instructions for updating:\n",
      "Please use tf.data to implement this functionality.\n",
      "Extracting MNIST_data/train-labels-idx1-ubyte.gz\n",
      "WARNING:tensorflow:From c:\\python36\\lib\\site-packages\\tensorflow\\contrib\\learn\\python\\learn\\datasets\\mnist.py:110: dense_to_one_hot (from tensorflow.contrib.learn.python.learn.datasets.mnist) is deprecated and will be removed in a future version.\n",
      "Instructions for updating:\n",
      "Please use tf.one_hot on tensors.\n",
      "Extracting MNIST_data/t10k-images-idx3-ubyte.gz\n",
      "Extracting MNIST_data/t10k-labels-idx1-ubyte.gz\n",
      "WARNING:tensorflow:From c:\\python36\\lib\\site-packages\\tensorflow\\contrib\\learn\\python\\learn\\datasets\\mnist.py:290: DataSet.__init__ (from tensorflow.contrib.learn.python.learn.datasets.mnist) is deprecated and will be removed in a future version.\n",
      "Instructions for updating:\n",
      "Please use alternatives such as official/mnist/dataset.py from tensorflow/models.\n",
      "[0. 0. 0. 0. 0. 0. 0. 0. 0. 1.]\n"
     ]
    },
    {
     "data": {
      "image/png": "[encoded data removed]",
      "text/plain": [
       "<Figure size 432x288 with 1 Axes>"
      ]
     },
     "metadata": {},
     "output_type": "display_data"
    }
   ],
   "source": [
    "mnist = input_data.read_data_sets(\"MNIST_data/\", one_hot=True)\n",
    "batch_xs, batch_ys = mnist.train.next_batch(1)\n",
    "img = batch_xs[0].reshape([28, 28])\n",
    "label = batch_ys[0]\n",
    "\n",
    "plt.imshow(img, cmap=\"gray\")\n",
    "print(label)"
   ]
  },
  {
   "cell_type": "markdown",
   "metadata": {},
   "source": [
    "## Define Model"
   ]
  },
  {
   "cell_type": "markdown",
   "metadata": {},
   "source": [
    "![title](images/mnist_two_layers.png)"
   ]
  },
  {
   "cell_type": "code",
   "execution_count": 3,
   "metadata": {},
   "outputs": [],
   "source": [
    "# 784 = 28x28 images\n",
    "# None: We don't know how many items will be in this dimension\n",
    "x = tf.placeholder(tf.float32, shape=[None, 784], name=\"input\")\n",
    "y_ = tf.placeholder(tf.float32, [None, 10])\n",
    "\n",
    "# Weights and bias\n",
    "# variables: we need to change this values when the model learns\n",
    "fc1_W = tf.Variable(tf.truncated_normal([784, 10], stddev=0.1))\n",
    "fc1_b = tf.Variable(tf.constant(0.1, shape=[10]))\n",
    "fc1 = tf.nn.relu(tf.matmul(x, fc1_W) + fc1_b)\n",
    "\n",
    "fc2_W = tf.Variable(tf.truncated_normal([10, 10], stddev=0.1))\n",
    "fc2_b = tf.Variable(tf.constant(0.1, shape=[10]))\n",
    "\n",
    "# define our model\n",
    "y = tf.nn.softmax(tf.matmul(fc1, fc2_W) + fc2_b, name=\"output\")"
   ]
  },
  {
   "cell_type": "markdown",
   "metadata": {},
   "source": [
    "## Loss Function"
   ]
  },
  {
   "cell_type": "code",
   "execution_count": 4,
   "metadata": {},
   "outputs": [
    {
     "name": "stdout",
     "output_type": "stream",
     "text": [
      "WARNING:tensorflow:From <ipython-input-4-56daf663dc01>:3: softmax_cross_entropy_with_logits (from tensorflow.python.ops.nn_ops) is deprecated and will be removed in a future version.\n",
      "Instructions for updating:\n",
      "\n",
      "Future major versions of TensorFlow will allow gradients to flow\n",
      "into the labels input on backprop by default.\n",
      "\n",
      "See @{tf.nn.softmax_cross_entropy_with_logits_v2}.\n",
      "\n"
     ]
    }
   ],
   "source": [
    "# loss\n",
    "cross_entropy = tf.reduce_mean(\n",
    "    tf.nn.softmax_cross_entropy_with_logits(labels=y_, logits=y))"
   ]
  },
  {
   "cell_type": "markdown",
   "metadata": {},
   "source": [
    "## Loss Optimization\n",
    "![title](images/optimization.png)"
   ]
  },
  {
   "cell_type": "code",
   "execution_count": 5,
   "metadata": {},
   "outputs": [],
   "source": [
    "# loss optimization\n",
    "train_step = tf.train.GradientDescentOptimizer(learning_rate=0.5) \\\n",
    "    .minimize(cross_entropy)"
   ]
  },
  {
   "cell_type": "markdown",
   "metadata": {},
   "source": [
    "## Learning Rate\n",
    "![title](images/learning_rate.png)\n",
    "![title](images/learning_rate_2.png)"
   ]
  },
  {
   "cell_type": "markdown",
   "metadata": {},
   "source": [
    "## Define metrics"
   ]
  },
  {
   "cell_type": "code",
   "execution_count": 6,
   "metadata": {},
   "outputs": [],
   "source": [
    "# What is correct\n",
    "correct_prediction = tf.equal(tf.argmax(y, 1), tf.argmax(y_, 1))\n",
    "\n",
    "# How accurate is it\n",
    "accuracy = tf.reduce_mean(tf.cast(correct_prediction, tf.float32))"
   ]
  },
  {
   "cell_type": "markdown",
   "metadata": {},
   "source": [
    "## Train the model"
   ]
  },
  {
   "cell_type": "code",
   "execution_count": 7,
   "metadata": {},
   "outputs": [
    {
     "name": "stdout",
     "output_type": "stream",
     "text": [
      "Step 0, training accuracy 10.000%\n",
      "Step 200, training accuracy 84.000%\n",
      "Step 400, training accuracy 82.000%\n",
      "Step 600, training accuracy 80.000%\n",
      "Step 800, training accuracy 92.000%\n",
      "Step 1000, training accuracy 96.000%\n",
      "Step 1200, training accuracy 94.000%\n",
      "Step 1400, training accuracy 98.000%\n",
      "Step 1600, training accuracy 100.000%\n",
      "Step 1800, training accuracy 88.000%\n",
      "Step 2000, training accuracy 96.000%\n",
      "Step 2200, training accuracy 100.000%\n",
      "Step 2400, training accuracy 90.000%\n",
      "Step 2600, training accuracy 94.000%\n",
      "Step 2800, training accuracy 92.000%\n"
     ]
    }
   ],
   "source": [
    "# Init all variables\n",
    "sess = tf.InteractiveSession()\n",
    "init = tf.global_variables_initializer()\n",
    "sess.run(init)\n",
    "\n",
    "# Train the model\n",
    "num_steps = 3000\n",
    "batch_size = 32\n",
    "display_every = 200\n",
    "\n",
    "for i in range(num_steps):\n",
    "    batch_xs, batch_ys = mnist.train.next_batch(batch_size)\n",
    "    sess.run(train_step, feed_dict={x: batch_xs, y_: batch_ys})\n",
    "\n",
    "    if i % display_every == 0:\n",
    "        train_accuracy = accuracy.eval(feed_dict={\n",
    "            x: batch_xs, y_: batch_ys\n",
    "        })\n",
    "        print(\"Step {0}, training accuracy {1:.3f}%\"\n",
    "              .format(i, train_accuracy * 100))"
   ]
  },
  {
   "cell_type": "markdown",
   "metadata": {},
   "source": [
    "## Validate results of the model"
   ]
  },
  {
   "cell_type": "code",
   "execution_count": 8,
   "metadata": {},
   "outputs": [
    {
     "name": "stdout",
     "output_type": "stream",
     "text": [
      "Validation Accuracy: 91.360%\n"
     ]
    }
   ],
   "source": [
    "# accuracy on test data\n",
    "validation_accuracy = accuracy.eval(feed_dict={\n",
    "    x: mnist.test.images, y_: mnist.test.labels\n",
    "})\n",
    "\n",
    "print(\"Validation Accuracy: {0:.3f}%\".format(validation_accuracy * 100))"
   ]
  },
  {
   "cell_type": "markdown",
   "metadata": {},
   "source": [
    "## Save model"
   ]
  },
  {
   "cell_type": "code",
   "execution_count": 9,
   "metadata": {},
   "outputs": [
    {
     "name": "stdout",
     "output_type": "stream",
     "text": [
      "INFO:tensorflow:Froze 4 variables.\n",
      "INFO:tensorflow:Converted 4 variables to const ops.\n"
     ]
    }
   ],
   "source": [
    "if not os.path.exists(\"models\"):\n",
    "    os.makedirs(\"models\")\n",
    "\n",
    "graph_path = \"models/tensorflow-simple_mnist.pb\"\n",
    "graph_path_text = \"models/tensorflow-simple_mnist.pb.txt\"\n",
    "\n",
    "minimal_graph = convert_variables_to_constants(sess, sess.graph_def, [\"output\"])\n",
    "tf.train.write_graph(minimal_graph, '.', graph_path, as_text=False)\n",
    "tf.train.write_graph(minimal_graph, '.', graph_path_text, as_text=True)\n",
    "    \n",
    "sess.close()"
   ]
  },
  {
   "cell_type": "markdown",
   "metadata": {},
   "source": [
    "## Predict an image from saved model"
   ]
  },
  {
   "cell_type": "markdown",
   "metadata": {},
   "source": [
    "### Load graph"
   ]
  },
  {
   "cell_type": "code",
   "execution_count": 10,
   "metadata": {},
   "outputs": [
    {
     "name": "stdout",
     "output_type": "stream",
     "text": [
      "import/input\n",
      "import/Variable\n",
      "import/Variable/read\n",
      "import/Variable_1\n",
      "import/Variable_1/read\n",
      "import/MatMul\n",
      "import/add\n",
      "import/Relu\n",
      "import/Variable_2\n",
      "import/Variable_2/read\n",
      "import/Variable_3\n",
      "import/Variable_3/read\n",
      "import/MatMul_1\n",
      "import/add_1\n",
      "import/output\n"
     ]
    }
   ],
   "source": [
    "graph = tf.Graph()\n",
    "graph_def = tf.GraphDef()\n",
    "\n",
    "with open(graph_path, \"rb\") as f:\n",
    "  graph_def.ParseFromString(f.read())\n",
    "with graph.as_default():\n",
    "  tf.import_graph_def(graph_def)\n",
    "\n",
    "for op in graph.get_operations():\n",
    "    print(str(op.name))\n",
    "\n",
    "input_layer = \"input\"\n",
    "output_layer = \"output\"\n",
    "\n",
    "input_operation = graph.get_operation_by_name(\"import/\" + input_layer)\n",
    "output_operation = graph.get_operation_by_name(\"import/\"+ output_layer)"
   ]
  },
  {
   "cell_type": "markdown",
   "metadata": {},
   "source": [
    "### prepare image"
   ]
  },
  {
   "cell_type": "code",
   "execution_count": 17,
   "metadata": {},
   "outputs": [
    {
     "name": "stdout",
     "output_type": "stream",
     "text": [
      "(784,)\n",
      "(28, 28)\n"
     ]
    },
    {
     "data": {
      "text/plain": [
       "<matplotlib.image.AxesImage at 0x22892909128>"
      ]
     },
     "execution_count": 17,
     "metadata": {},
     "output_type": "execute_result"
    },
    {
     "data": {
      "image/png": "[encoded data removed]",
      "text/plain": [
       "<Figure size 432x288 with 1 Axes>"
      ]
     },
     "metadata": {},
     "output_type": "display_data"
    }
   ],
   "source": [
    "x = mnist.test.images[0]\n",
    "print(x.shape)\n",
    "x = np.expand_dims(x, axis=0)\n",
    "\n",
    "# display image\n",
    "img = x.reshape([28, 28])\n",
    "print(img.shape)\n",
    "plt.imshow(img, cmap=\"gray\")"
   ]
  },
  {
   "cell_type": "markdown",
   "metadata": {},
   "source": [
    "### Predict image"
   ]
  },
  {
   "cell_type": "code",
   "execution_count": 18,
   "metadata": {},
   "outputs": [
    {
     "name": "stdout",
     "output_type": "stream",
     "text": [
      "[1.0191884e-10 1.3174799e-17 3.7008646e-11 7.0597736e-07 6.4864994e-16\n",
      " 7.2862286e-11 1.6200912e-22 9.9999928e-01 6.1715793e-12 2.7162086e-10]\n"
     ]
    },
    {
     "data": {
      "text/plain": [
       "7"
      ]
     },
     "execution_count": 18,
     "metadata": {},
     "output_type": "execute_result"
    }
   ],
   "source": [
    "with tf.Session(graph=graph) as session:\n",
    "  results = session.run(output_operation.outputs[0], {\n",
    "      input_operation.outputs[0]: x\n",
    "  })\n",
    "\n",
    "predictions = results[0]\n",
    "print(predictions)\n",
    "np.argmax(predictions)"
   ]
  }
 ],
 "metadata": {
  "kernelspec": {
   "display_name": "Python 3",
   "language": "python",
   "name": "python3"
  },
  "language_info": {
   "codemirror_mode": {
    "name": "ipython",
    "version": 3
   },
   "file_extension": ".py",
   "mimetype": "text/x-python",
   "name": "python",
   "nbconvert_exporter": "python",
   "pygments_lexer": "ipython3",
   "version": "3.6.6"
  }
 },
 "nbformat": 4,
 "nbformat_minor": 2
}
