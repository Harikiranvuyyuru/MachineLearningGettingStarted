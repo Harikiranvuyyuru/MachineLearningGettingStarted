{
 "cells": [
  {
   "cell_type": "markdown",
   "metadata": {},
   "source": [
    "# What is Machine Learning?\n",
    "## Difference between Traditional Programming and Machine Learning Approach\n",
    "\n",
    "![title](images/machine_learning.png)"
   ]
  },
  {
   "cell_type": "markdown",
   "metadata": {},
   "source": [
    "# Types of Machine Learning\n",
    "## Supervised Learning\n",
    "- \"Lernen mit Lehrer\"\n",
    "- Give the right answer to a given question\n",
    "- Requires \"labels\"\n",
    "\n",
    "## Unsupervised Learning\n",
    "- Identifying clusters\n",
    "- Data does not contains cluster membership\n",
    "- Identify outliers\n",
    "\n",
    "![title](images/machine_learning_overview.png)"
   ]
  },
  {
   "cell_type": "markdown",
   "metadata": {},
   "source": [
    "![title](images/supervised_vs_unsupervised_learning.png)"
   ]
  },
  {
   "cell_type": "markdown",
   "metadata": {},
   "source": [
    "# Types of Machine Learning Problems\n",
    "\n",
    "![title](images/machine_learning_problems.png)"
   ]
  },
  {
   "attachments": {},
   "cell_type": "markdown",
   "metadata": {},
   "source": [
    "## Regression vs. Classification\n",
    "### Regression\n",
    "- Predict continuous valued output (price of a house, dependent features)\n",
    "\n",
    "\n",
    "### Classifciation\n",
    "- Discrete value output\n",
    "- Exp:Cat or Dog, Cancer or No cancer, ...\n"
   ]
  }
 ],
 "metadata": {
  "kernelspec": {
   "display_name": "Python 3",
   "language": "python",
   "name": "python3"
  },
  "language_info": {
   "codemirror_mode": {
    "name": "ipython",
    "version": 3
   },
   "file_extension": ".py",
   "mimetype": "text/x-python",
   "name": "python",
   "nbconvert_exporter": "python",
   "pygments_lexer": "ipython3",
   "version": "3.6.6"
  }
 },
 "nbformat": 4,
 "nbformat_minor": 2
}
