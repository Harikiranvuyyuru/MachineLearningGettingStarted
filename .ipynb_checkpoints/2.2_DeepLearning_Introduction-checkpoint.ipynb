{
 "cells": [
  {
   "cell_type": "markdown",
   "metadata": {},
   "source": [
    "# Deep Learning\n",
    "![title](images/deeplearning.png)"
   ]
  },
  {
   "cell_type": "markdown",
   "metadata": {},
   "source": [
    "# Motivation\n",
    "- Künstliche Neuronale Netzwerke imitieren biologische Neuronale System\n",
    "- Grosse Anzahl Verarbeitungseinheiten, genannt Neuronen\n",
    "- Verbundene Neuronen tauschen Signale aus\n",
    "- Neuron kombiniert die periodisch ankommenden Signale (anderer, benachbarter Neuronen) und berechnet daraus ein Signal, welches an weitere, benachbarte Neuronen geschickt wird\n",
    "- Eine grosse Anzahl zusammen abreitender Neuronen können komplexe Aufgaben lösen"
   ]
  },
  {
   "cell_type": "markdown",
   "metadata": {},
   "source": [
    "### Abstraktion eines Neurons\n",
    "- Neuron hat mehrere Eingänge mit gewichteten Inputs\n",
    "- Neuron feuer, falls eine Funktion des Inputs einne bestimmten Schwellwert überschreitet\n",
    "- Typische Dauer eines Prozesses (Gesichtserkennung) = 1/10s, dabei sind ca. 100 Ebenen/Schritte involviert\n",
    "- Output eines Neurons ist wieder Input mehrerer weiterer Neuronen\n",
    "![title](images/neuron_abstraction.png)"
   ]
  },
  {
   "cell_type": "markdown",
   "metadata": {},
   "source": [
    "## Difference to tradtional Machine Learning Approaches\n",
    "![title](images/dl_vs_traditional_ml.png)\n"
   ]
  },
  {
   "cell_type": "markdown",
   "metadata": {},
   "source": [
    "# Neural Network\n",
    "![title](images/neural_network.png)"
   ]
  },
  {
   "cell_type": "markdown",
   "metadata": {},
   "source": [
    "### Darstellung als Matrix\n",
    "![title](images/neural_network_matrix.png)"
   ]
  },
  {
   "cell_type": "markdown",
   "metadata": {},
   "source": [
    "## Deep Neural Network\n",
    "![title](images/deep_neural_network.png)"
   ]
  },
  {
   "cell_type": "markdown",
   "metadata": {},
   "source": [
    "# Components of a Neural Network"
   ]
  },
  {
   "cell_type": "markdown",
   "metadata": {},
   "source": [
    "## Neuron\n",
    "![title](images/neuron.png)\n",
    "![title](images/neuron_abstraction2.png)\n",
    "\n",
    "### Types\n",
    "#### Input Neuron\n",
    "- No processing, used to provide input signals\n",
    "\n",
    "#### Hidden Neurons\n",
    "- Additional processing units to converge the solution\n",
    "\n",
    "#### Output Neurons\n",
    "- Processing units, used to get output"
   ]
  },
  {
   "cell_type": "markdown",
   "metadata": {},
   "source": [
    "## Nodes and Weights\n",
    "![title](images/nodes_weights.png)"
   ]
  },
  {
   "cell_type": "markdown",
   "metadata": {},
   "source": [
    "## Activation Function\n",
    "- Apply non-linearity to the result\n",
    "![title](images/activation_function.png)"
   ]
  },
  {
   "cell_type": "markdown",
   "metadata": {},
   "source": [
    "# Loss/Cost Function\n",
    "Mathematical functions that will answer how well your classifier is doing it’s job with the current set of parameters (Weights and Bias)\n"
   ]
  },
  {
   "cell_type": "markdown",
   "metadata": {},
   "source": [
    "## Categorical Cross Entropy\n",
    "![title](images/categorical_crossentropy.png)"
   ]
  },
  {
   "cell_type": "markdown",
   "metadata": {},
   "source": [
    "# Optimization\n",
    "- Zur Bestimmung der optimalen Gewichte\n",
    "![title](images/optimization.png)"
   ]
  },
  {
   "cell_type": "markdown",
   "metadata": {},
   "source": [
    "![title](images/gradient_descent.png)"
   ]
  }
 ],
 "metadata": {
  "kernelspec": {
   "display_name": "Python 3",
   "language": "python",
   "name": "python3"
  },
  "language_info": {
   "codemirror_mode": {
    "name": "ipython",
    "version": 3
   },
   "file_extension": ".py",
   "mimetype": "text/x-python",
   "name": "python",
   "nbconvert_exporter": "python",
   "pygments_lexer": "ipython3",
   "version": "3.6.6"
  }
 },
 "nbformat": 4,
 "nbformat_minor": 2
}
